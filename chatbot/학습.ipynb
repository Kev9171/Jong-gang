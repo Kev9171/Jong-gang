{
  "cells": [
    {
      "cell_type": "code",
      "execution_count": 1,
      "metadata": {
        "colab": {
          "base_uri": "https://localhost:8080/"
        },
        "id": "j65i49dU8Cjs",
        "outputId": "d81ec9ca-b22e-4c26-f5ba-6125f78f40cb"
      },
      "outputs": [
        {
          "name": "stdout",
          "output_type": "stream",
          "text": [
            "Mounted at /gdrive\n"
          ]
        }
      ],
      "source": [
        "from google.colab import drive\n",
        "drive.mount(\"/gdrive\", force_remount=True)"
      ]
    },
    {
      "cell_type": "code",
      "execution_count": 1,
      "metadata": {
        "id": "0zVeC5Mf8C-S"
      },
      "outputs": [
        {
          "name": "stderr",
          "output_type": "stream",
          "text": [
            "c:\\Users\\10133\\AppData\\Local\\Programs\\Python\\Python310\\lib\\site-packages\\tqdm\\auto.py:22: TqdmWarning: IProgress not found. Please update jupyter and ipywidgets. See https://ipywidgets.readthedocs.io/en/stable/user_install.html\n",
            "  from .autonotebook import tqdm as notebook_tqdm\n"
          ]
        }
      ],
      "source": [
        "import pandas as pd\n",
        "import numpy as np\n",
        "import matplotlib.pyplot as plt\n",
        "import re\n",
        "import urllib.request\n",
        "import time\n",
        "import tensorflow_datasets as tfds\n",
        "import tensorflow as tf\n",
        "from tensorflow import keras"
      ]
    },
    {
      "cell_type": "code",
      "execution_count": 2,
      "metadata": {
        "id": "UmYHzEcU8nRp"
      },
      "outputs": [],
      "source": [
        "urllib.request.urlretrieve(\"https://raw.githubusercontent.com/songys/Chatbot_data/master/ChatbotData.csv\", filename=\"ChatBotData.csv\")\n",
        "data = pd.read_csv('ChatBotData.csv')\n",
        "#data = data[0:5290]"
      ]
    },
    {
      "cell_type": "code",
      "execution_count": 3,
      "metadata": {
        "id": "fJ-bIKnw-1D8"
      },
      "outputs": [],
      "source": [
        "f = open(\"KETI_conv_kr.txt\",\"r\",encoding='utf8')\n",
        "lines = f.readlines()\n",
        "\n",
        "Q = []\n",
        "A = []\n",
        "\n",
        "for i in range(len(lines)) :\n",
        "    if i%2 == 0 :\n",
        "        Q.append(lines[i][2:-1])\n",
        "        A.append(lines[i+1][2:-1])\n",
        "\n",
        "import pandas as pd\n",
        "df = pd.DataFrame()\n",
        "\n",
        "df['Q'] = Q\n",
        "df['A'] = A\n",
        "df['label'] = 1\n",
        "\n",
        "train_data = pd.concat([data, df],ignore_index=True)\n",
        "train_data = train_data.sample(frac=1).reset_index(drop=True)"
      ]
    },
    {
      "cell_type": "code",
      "execution_count": 4,
      "metadata": {
        "colab": {
          "base_uri": "https://localhost:8080/"
        },
        "id": "Ow01KJjz-416",
        "outputId": "a43f3dd0-6274-46a9-e387-ace4179392c0"
      },
      "outputs": [
        {
          "name": "stdout",
          "output_type": "stream",
          "text": [
            "임의의 질문 샘플을 정수 인코딩 : [132, 494, 132, 168, 119]\n"
          ]
        }
      ],
      "source": [
        "# 특수기호 띄어쓰기\n",
        "def preprocess_sentence(sentence):\n",
        "  sentence = re.sub(r\"([?.!,])\", r\" \\1 \", sentence)\n",
        "  sentence = re.sub(r'[\" \"]+', \" \", sentence)\n",
        "  sentence = sentence.strip()\n",
        "  return sentence\n",
        "\n",
        "questions = []\n",
        "answers = []\n",
        "for sentence in train_data['Q']:\n",
        "    questions.append(preprocess_sentence(sentence))\n",
        "\n",
        "for sentence in train_data['A']:\n",
        "    answers.append(preprocess_sentence(sentence))\n",
        "\n",
        "    #서브워드텍스트인코더 사용\n",
        "tokenizer = tfds.deprecated.text.SubwordTextEncoder.build_from_corpus(\n",
        "    questions + answers, target_vocab_size=2**13)\n",
        "    \n",
        "\n",
        "START_TOKEN, END_TOKEN = [tokenizer.vocab_size], [tokenizer.vocab_size + 1]\n",
        "VOCAB_SIZE = tokenizer.vocab_size + 2\n",
        "\n",
        "print('임의의 질문 샘플을 정수 인코딩 : {}'.format(tokenizer.encode(questions[20])))\n",
        "\n",
        "MAX_LENGTH = 40\n",
        "\n",
        "# 정수 인코딩 & 패딩\n",
        "def tokenize_and_filter(inputs, outputs):\n",
        "  tokenized_inputs, tokenized_outputs = [], []\n",
        "\n",
        "  for (sentence1, sentence2) in zip(inputs, outputs):\n",
        "    # encode(토큰화 + 정수 인코딩), 시작 토큰과 종료 토큰 추가\n",
        "    sentence1 = START_TOKEN + tokenizer.encode(sentence1) + END_TOKEN\n",
        "    sentence2 = START_TOKEN + tokenizer.encode(sentence2) + END_TOKEN\n",
        "\n",
        "    tokenized_inputs.append(sentence1)\n",
        "    tokenized_outputs.append(sentence2)\n",
        "\n",
        "  # 패딩\n",
        "  tokenized_inputs = tf.keras.preprocessing.sequence.pad_sequences(\n",
        "      tokenized_inputs, maxlen=MAX_LENGTH, padding='post')\n",
        "  tokenized_outputs = tf.keras.preprocessing.sequence.pad_sequences(\n",
        "      tokenized_outputs, maxlen=MAX_LENGTH, padding='post')\n",
        "\n",
        "  return tokenized_inputs, tokenized_outputs"
      ]
    },
    {
      "cell_type": "code",
      "execution_count": 5,
      "metadata": {
        "id": "8fk1BLZ-VrHe"
      },
      "outputs": [],
      "source": [
        "questions, answers = tokenize_and_filter(questions, answers)\n",
        "\n",
        "BATCH_SIZE = 64\n",
        "BUFFER_SIZE = 20000\n",
        "\n",
        "dataset = tf.data.Dataset.from_tensor_slices((\n",
        "    {\n",
        "        'inputs': questions,\n",
        "        'dec_inputs': answers[:, :-1] # 디코더의 입력. 마지막 패딩 토큰 제거\n",
        "    },\n",
        "    {\n",
        "        'outputs': answers[:, 1:]  \n",
        "    },\n",
        "))\n",
        "\n",
        "dataset = dataset.cache()\n",
        "dataset = dataset.shuffle(BUFFER_SIZE)\n",
        "dataset = dataset.batch(BATCH_SIZE)\n",
        "dataset = dataset.prefetch(tf.data.experimental.AUTOTUNE)"
      ]
    },
    {
      "cell_type": "code",
      "execution_count": 7,
      "metadata": {
        "id": "NIhLXar0Ta-Y"
      },
      "outputs": [],
      "source": [
        "def transformer(vocab_size, num_layers, dff,\n",
        "                d_model, num_heads, dropout,\n",
        "                name=\"transformer\"):\n",
        "\n",
        "  # 인코더의 입력\n",
        "  inputs = tf.keras.Input(shape=(None,), name=\"inputs\")\n",
        "\n",
        "  # 디코더의 입력\n",
        "  dec_inputs = tf.keras.Input(shape=(None,), name=\"dec_inputs\")\n",
        "\n",
        "  # 인코더의 패딩 마스크\n",
        "  enc_padding_mask = tf.keras.layers.Lambda(\n",
        "      create_padding_mask, output_shape=(1, 1, None),\n",
        "      name='enc_padding_mask')(inputs)\n",
        "\n",
        "  # 디코더의 룩어헤드 마스크(첫번째 서브층)\n",
        "  look_ahead_mask = tf.keras.layers.Lambda(\n",
        "      create_look_ahead_mask, output_shape=(1, None, None),\n",
        "      name='look_ahead_mask')(dec_inputs)\n",
        "\n",
        "  # 디코더의 패딩 마스크(두번째 서브층)\n",
        "  dec_padding_mask = tf.keras.layers.Lambda(\n",
        "      create_padding_mask, output_shape=(1, 1, None),\n",
        "      name='dec_padding_mask')(inputs)\n",
        "\n",
        "  # 인코더의 출력은 enc_outputs. 디코더로 전달된다.\n",
        "  enc_outputs = encoder(vocab_size=vocab_size, num_layers=num_layers, dff=dff,\n",
        "      d_model=d_model, num_heads=num_heads, dropout=dropout,\n",
        "  )(inputs=[inputs, enc_padding_mask]) # 인코더의 입력은 입력 문장과 패딩 마스크\n",
        "\n",
        "  # 디코더의 출력은 dec_outputs. 출력층으로 전달된다.\n",
        "  dec_outputs = decoder(vocab_size=vocab_size, num_layers=num_layers, dff=dff,\n",
        "      d_model=d_model, num_heads=num_heads, dropout=dropout,\n",
        "  )(inputs=[dec_inputs, enc_outputs, look_ahead_mask, dec_padding_mask])\n",
        "\n",
        "  # 다음 단어 예측을 위한 출력층\n",
        "  outputs = tf.keras.layers.Dense(units=vocab_size, name=\"outputs\")(dec_outputs)\n",
        "\n",
        "  return tf.keras.Model(inputs=[inputs, dec_inputs], outputs=outputs, name=name)"
      ]
    },
    {
      "cell_type": "code",
      "execution_count": 13,
      "metadata": {
        "id": "Xmry1bzxQlDm"
      },
      "outputs": [],
      "source": [
        "class PositionalEncoding(tf.keras.layers.Layer):\n",
        "  def __init__(self, position, d_model):\n",
        "    super(PositionalEncoding, self).__init__()\n",
        "    self.pos_encoding = self.positional_encoding(position, d_model)\n",
        "    self.position = position\n",
        "    self.d_model = d_model\n",
        "\n",
        "  def get_config(self):\n",
        "    config = super(PositionalEncoding, self).get_config()\n",
        "    config.update({\n",
        "        'position': self.position,\n",
        "        'd_model': self.d_model,\n",
        "    })\n",
        "    return config\n",
        "\n",
        "  def get_angles(self, position, i, d_model):\n",
        "    angles = 1 / tf.pow(10000, (2 * (i // 2)) / tf.cast(d_model, tf.float32))\n",
        "    return position * angles\n",
        "\n",
        "  def positional_encoding(self, position, d_model):\n",
        "    angle_rads = self.get_angles(\n",
        "        position=tf.range(position, dtype=tf.float32)[:, tf.newaxis],\n",
        "        i=tf.range(d_model, dtype=tf.float32)[tf.newaxis, :],\n",
        "        d_model=d_model)\n",
        "\n",
        "    # 배열의 짝수 인덱스(2i)에는 사인 함수 적용\n",
        "    sines = tf.math.sin(angle_rads[:, 0::2])\n",
        "\n",
        "    # 배열의 홀수 인덱스(2i+1)에는 코사인 함수 적용\n",
        "    cosines = tf.math.cos(angle_rads[:, 1::2])\n",
        "\n",
        "    angle_rads = np.zeros(angle_rads.shape)\n",
        "    angle_rads[:, 0::2] = sines\n",
        "    angle_rads[:, 1::2] = cosines\n",
        "    pos_encoding = tf.constant(angle_rads)\n",
        "    pos_encoding = pos_encoding[tf.newaxis, ...]\n",
        "\n",
        "    print(pos_encoding.shape)\n",
        "    return tf.cast(pos_encoding, tf.float32)\n",
        "\n",
        "  def call(self, inputs):\n",
        "    return inputs + self.pos_encoding[:, :tf.shape(inputs)[1], :]"
      ]
    },
    {
      "cell_type": "code",
      "execution_count": 12,
      "metadata": {
        "id": "SkZz7iyDQnuP"
      },
      "outputs": [],
      "source": [
        "def create_padding_mask(x):\n",
        "  mask = tf.cast(tf.math.equal(x, 0), tf.float32)\n",
        "  # (batch_size, 1, 1, key의 문장 길이)\n",
        "  return mask[:, tf.newaxis, tf.newaxis, :]\n",
        "\n",
        "# 디코더의 첫번째 서브층(sublayer)에서 미래 토큰을 Mask하는 함수\n",
        "def create_look_ahead_mask(x):\n",
        "  seq_len = tf.shape(x)[1]\n",
        "  look_ahead_mask = 1 - tf.linalg.band_part(tf.ones((seq_len, seq_len)), -1, 0)\n",
        "  padding_mask = create_padding_mask(x) # 패딩 마스크도 포함\n",
        "  return tf.maximum(look_ahead_mask, padding_mask)\n",
        "\n",
        "#encoder\n",
        "def encoder(vocab_size, num_layers, dff,\n",
        "            d_model, num_heads, dropout,\n",
        "            name=\"encoder\"):\n",
        "  inputs = tf.keras.Input(shape=(None,), name=\"inputs\")\n",
        "\n",
        "  # 인코더는 패딩 마스크 사용\n",
        "  padding_mask = tf.keras.Input(shape=(1, 1, None), name=\"padding_mask\")\n",
        "\n",
        "  # 포지셔널 인코딩 + 드롭아웃\n",
        "  embeddings = tf.keras.layers.Embedding(vocab_size, d_model)(inputs)\n",
        "  embeddings *= tf.keras.layers.Lambda(lambda d_model: tf.math.sqrt(tf.cast(d_model, tf.float32)))(d_model)\n",
        "  embeddings = PositionalEncoding(vocab_size,d_model)(embeddings)\n",
        "  outputs = tf.keras.layers.Dropout(rate=dropout)(embeddings)\n",
        "\n",
        "  # 인코더를 num_layers개 쌓기\n",
        "  for i in range(num_layers):\n",
        "    outputs = encoder_layer(dff=dff, d_model=d_model, num_heads=num_heads,\n",
        "        dropout=dropout, name=\"encoder_layer_{}\".format(i),\n",
        "    )([outputs, padding_mask])\n",
        "\n",
        "  return tf.keras.Model(\n",
        "      inputs=[inputs, padding_mask], outputs=outputs, name=name)"
      ]
    },
    {
      "cell_type": "code",
      "execution_count": 14,
      "metadata": {
        "id": "lDl21wuMQrhF"
      },
      "outputs": [],
      "source": [
        "def encoder_layer(dff, d_model, num_heads, dropout, name=\"encoder_layer\"):\n",
        "  inputs = tf.keras.Input(shape=(None, d_model), name=\"inputs\")\n",
        "\n",
        "  # 인코더는 패딩 마스크 사용\n",
        "  padding_mask = tf.keras.Input(shape=(1, 1, None), name=\"padding_mask\")\n",
        "\n",
        "  # 멀티-헤드 어텐션 (첫번째 서브층 / 셀프 어텐션)\n",
        "  attention = MultiHeadAttentions(\n",
        "      d_model, num_heads, name=\"attention\")({\n",
        "          'query': inputs, 'key': inputs, 'value': inputs, # Q = K = V\n",
        "          'mask': padding_mask # 패딩 마스크 사용\n",
        "      })\n",
        "\n",
        "  # 드롭아웃 + 잔차 연결과 층 정규화\n",
        "  attention = tf.keras.layers.Dropout(rate=dropout)(attention)\n",
        "  add_attention = tf.keras.layers.add([inputs,attention])\n",
        "  attention = tf.keras.layers.LayerNormalization(epsilon=1e-6)(add_attention)\n",
        "\n",
        "  # 포지션 와이즈 피드 포워드 신경망 (두번째 서브층)\n",
        "  outputs = tf.keras.layers.Dense(units=dff, activation='relu')(attention)\n",
        "  outputs = tf.keras.layers.Dense(units=d_model)(outputs)\n",
        "\n",
        "  # 드롭아웃 + 잔차 연결과 층 정규화\n",
        "  outputs = tf.keras.layers.Dropout(rate=dropout)(outputs)\n",
        "  add_attention = tf.keras.layers.add([attention,outputs])\n",
        "  outputs = tf.keras.layers.LayerNormalization(epsilon=1e-6)(add_attention)\n",
        "\n",
        "  return tf.keras.Model(\n",
        "      inputs=[inputs, padding_mask], outputs=outputs, name=name)"
      ]
    },
    {
      "cell_type": "code",
      "execution_count": 13,
      "metadata": {
        "id": "bLYyxHN_Qt7F"
      },
      "outputs": [],
      "source": [
        "class MultiHeadAttentions(tf.keras.layers.Layer):\n",
        "\n",
        "  def __init__(self, d_model, num_heads, name=\"multi_head_attentions\"):\n",
        "    super(MultiHeadAttentions, self).__init__(name=name)\n",
        "    self.num_heads = num_heads\n",
        "    self.d_model = d_model\n",
        "\n",
        "    assert d_model % self.num_heads == 0\n",
        "\n",
        "    # d_model을 num_heads로 나눈 값.\n",
        "    # 논문 기준 : 64\n",
        "    self.depth = d_model // self.num_heads\n",
        "\n",
        "    # WQ, WK, WV에 해당하는 밀집층 정의\n",
        "    self.query_dense = tf.keras.layers.Dense(units=d_model)\n",
        "    self.key_dense = tf.keras.layers.Dense(units=d_model)\n",
        "    self.value_dense = tf.keras.layers.Dense(units=d_model)\n",
        "\n",
        "    # WO에 해당하는 밀집층 정의\n",
        "    self.dense = tf.keras.layers.Dense(units=d_model)\n",
        "\n",
        "  def get_config(self):\n",
        "    config = super(MultiHeadAttentions,self).get_config()\n",
        "    config.update({\n",
        "      'num_heads':self.num_heads,\n",
        "      'd_model':self.d_model,\n",
        "      })\n",
        "    return config\n",
        "\n",
        "  # num_heads 개수만큼 q, k, v를 split하는 함수\n",
        "  def split_heads(self, inputs, batch_size):\n",
        "    inputs = tf.keras.layers.Lambda(lambda inputs:tf.reshape(\n",
        "        inputs, shape=(batch_size, -1, self.num_heads, self.depth)))(inputs)\n",
        "    return tf.keras.layers.Lambda(lambda inputs: tf.transpose(inputs, perm=[0, 2, 1, 3]))(inputs)\n",
        "\n",
        "  def call(self, inputs):\n",
        "    query, key, value, mask = inputs['query'], inputs['key'], inputs[\n",
        "        'value'], inputs['mask']\n",
        "    batch_size = tf.shape(query)[0]\n",
        "\n",
        "    # 1. WQ, WK, WV에 해당하는 밀집층 지나기\n",
        "    # q : (batch_size, query의 문장 길이, d_model)\n",
        "    # k : (batch_size, key의 문장 길이, d_model)\n",
        "    # v : (batch_size, value의 문장 길이, d_model)\n",
        "    # 참고) 인코더(k, v)-디코더(q) 어텐션에서는 query 길이와 key, value의 길이는 다를 수 있다.\n",
        "    query = self.query_dense(query)\n",
        "    key = self.key_dense(key)\n",
        "    value = self.value_dense(value)\n",
        "\n",
        "    # 2. 헤드 나누기\n",
        "    # q : (batch_size, num_heads, query의 문장 길이, d_model/num_heads)\n",
        "    # k : (batch_size, num_heads, key의 문장 길이, d_model/num_heads)\n",
        "    # v : (batch_size, num_heads, value의 문장 길이, d_model/num_heads)\n",
        "    query = self.split_heads(query, batch_size)\n",
        "    key = self.split_heads(key, batch_size)\n",
        "    value = self.split_heads(value, batch_size)\n",
        "\n",
        "    # 3. 스케일드 닷 프로덕트 어텐션. 앞서 구현한 함수 사용.\n",
        "    # (batch_size, num_heads, query의 문장 길이, d_model/num_heads)\n",
        "    scaled_attention, _ = scaled_dot_product_attention(query, key, value, mask)\n",
        "    # (batch_size, query의 문장 길이, num_heads, d_model/num_heads)\n",
        "    scaled_attention = tf.keras.layers.Lambda(lambda scaled_attention: tf.transpose(\n",
        "        scaled_attention, perm=[0, 2, 1, 3]))(scaled_attention)\n",
        "\n",
        "    # 4. 헤드 연결(concatenate)하기\n",
        "    # (batch_size, query의 문장 길이, d_model)\n",
        "    concat_attention = tf.keras.layers.Lambda(lambda scaled_attention: tf.reshape(scaled_attention,\n",
        "                                  (batch_size, -1, self.d_model)))(scaled_attention)\n",
        "\n",
        "    # 5. WO에 해당하는 밀집층 지나기\n",
        "    # (batch_size, query의 문장 길이, d_model)\n",
        "    outputs = self.dense(concat_attention)\n",
        "\n",
        "    return outputs"
      ]
    },
    {
      "cell_type": "code",
      "execution_count": 6,
      "metadata": {
        "id": "g8WaZihCQw3A"
      },
      "outputs": [],
      "source": [
        "def scaled_dot_product_attention(query, key, value, mask):\n",
        "  # query 크기 : (batch_size, num_heads, query의 문장 길이, d_model/num_heads)\n",
        "  # key 크기 : (batch_size, num_heads, key의 문장 길이, d_model/num_heads)\n",
        "  # value 크기 : (batch_size, num_heads, value의 문장 길이, d_model/num_heads)\n",
        "  # padding_mask : (batch_size, 1, 1, key의 문장 길이)\n",
        "\n",
        "  # Q와 K의 곱. 어텐션 스코어 행렬.\n",
        "  matmul_qk = tf.matmul(query, key, transpose_b=True)\n",
        "\n",
        "  # 스케일링\n",
        "  # dk의 루트값으로 나눠준다.\n",
        "  depth = tf.cast(tf.shape(key)[-1], tf.float32)\n",
        "  logits = matmul_qk / tf.math.sqrt(depth)\n",
        "\n",
        "  # 마스킹. 어텐션 스코어 행렬의 마스킹 할 위치에 매우 작은 음수값을 넣는다.\n",
        "  # 매우 작은 값이므로 소프트맥스 함수를 지나면 행렬의 해당 위치의 값은 0이 된다.\n",
        "  if mask is not None:\n",
        "    logits += (mask * -1e9)\n",
        "\n",
        "  # 소프트맥스 함수는 마지막 차원인 key의 문장 길이 방향으로 수행된다.\n",
        "  # attention weight : (batch_size, num_heads, query의 문장 길이, key의 문장 길이)\n",
        "  attention_weights = tf.nn.softmax(logits, axis=-1)\n",
        "\n",
        "  # output : (batch_size, num_heads, query의 문장 길이, d_model/num_heads)\n",
        "  output = tf.matmul(attention_weights, value)\n",
        "\n",
        "  return output, attention_weights"
      ]
    },
    {
      "cell_type": "code",
      "execution_count": 7,
      "metadata": {
        "id": "dVLKpzhwQ1Ni"
      },
      "outputs": [],
      "source": [
        "def decoder(vocab_size, num_layers, dff,\n",
        "            d_model, num_heads, dropout,\n",
        "            name='decoder'):\n",
        "  inputs = tf.keras.Input(shape=(None,), name='inputs')\n",
        "  enc_outputs = tf.keras.Input(shape=(None, d_model), name='encoder_outputs')\n",
        "\n",
        "  # 디코더는 룩어헤드 마스크(첫번째 서브층)와 패딩 마스크(두번째 서브층) 둘 다 사용.\n",
        "  look_ahead_mask = tf.keras.Input(\n",
        "      shape=(1, None, None), name='look_ahead_mask')\n",
        "  padding_mask = tf.keras.Input(shape=(1, 1, None), name='padding_mask')\n",
        "\n",
        "  # 포지셔널 인코딩 + 드롭아웃\n",
        "  embeddings = tf.keras.layers.Embedding(vocab_size, d_model)(inputs)\n",
        "  embeddings *= tf.keras.layers.Lambda(lambda d_model: tf.math.sqrt(tf.cast(d_model, tf.float32)))(d_model)\n",
        "  embeddings = PositionalEncoding(vocab_size, d_model)(embeddings)\n",
        "  outputs = tf.keras.layers.Dropout(rate=dropout)(embeddings)\n",
        "\n",
        "  # 디코더를 num_layers개 쌓기\n",
        "  for i in range(num_layers):\n",
        "    outputs = decoder_layer(dff=dff, d_model=d_model, num_heads=num_heads,\n",
        "        dropout=dropout, name='decoder_layer_{}'.format(i),\n",
        "    )(inputs=[outputs, enc_outputs, look_ahead_mask, padding_mask])\n",
        "\n",
        "  return tf.keras.Model(\n",
        "      inputs=[inputs, enc_outputs, look_ahead_mask, padding_mask],\n",
        "      outputs=outputs,\n",
        "      name=name)"
      ]
    },
    {
      "cell_type": "code",
      "execution_count": 8,
      "metadata": {
        "id": "UbK8i-yCQ27-"
      },
      "outputs": [],
      "source": [
        "def decoder_layer(dff, d_model, num_heads, dropout, name=\"decoder_layer\"):\n",
        "  inputs = tf.keras.Input(shape=(None, d_model), name=\"inputs\")\n",
        "  enc_outputs = tf.keras.Input(shape=(None, d_model), name=\"encoder_outputs\")\n",
        "\n",
        "  # 룩어헤드 마스크(첫번째 서브층)\n",
        "  look_ahead_mask = tf.keras.Input(\n",
        "      shape=(1, None, None), name=\"look_ahead_mask\")\n",
        "\n",
        "  # 패딩 마스크(두번째 서브층)\n",
        "  padding_mask = tf.keras.Input(shape=(1, 1, None), name='padding_mask')\n",
        "\n",
        "  # 멀티-헤드 어텐션 (첫번째 서브층 / 마스크드 셀프 어텐션)\n",
        "  attention1 = MultiHeadAttentions(\n",
        "      d_model, num_heads, name=\"attention_1\")(inputs={\n",
        "          'query': inputs, 'key': inputs, 'value': inputs, # Q = K = V\n",
        "          'mask': look_ahead_mask # 룩어헤드 마스크\n",
        "      })\n",
        "\n",
        "  # 잔차 연결과 층 정규화\n",
        "  add_attention = tf.keras.layers.add([attention1,inputs])    \n",
        "  attention1 = tf.keras.layers.LayerNormalization(epsilon=1e-6)(add_attention)\n",
        "\n",
        "  # 멀티-헤드 어텐션 (두번째 서브층 / 디코더-인코더 어텐션)\n",
        "  attention2 = MultiHeadAttentions(\n",
        "      d_model, num_heads, name=\"attention_2\")(inputs={\n",
        "          'query': attention1, 'key': enc_outputs, 'value': enc_outputs, # Q != K = V\n",
        "          'mask': padding_mask # 패딩 마스크\n",
        "      })\n",
        "\n",
        "  # 드롭아웃 + 잔차 연결과 층 정규화\n",
        "  attention2 = tf.keras.layers.Dropout(rate=dropout)(attention2)\n",
        "  add_attention = tf.keras.layers.add([attention2,attention1])\n",
        "  attention2 = tf.keras.layers.LayerNormalization(epsilon=1e-6)(add_attention)\n",
        "\n",
        "  # 포지션 와이즈 피드 포워드 신경망 (세번째 서브층)\n",
        "  outputs = tf.keras.layers.Dense(units=dff, activation='relu')(attention2)\n",
        "  outputs = tf.keras.layers.Dense(units=d_model)(outputs)\n",
        "\n",
        "  # 드롭아웃 + 잔차 연결과 층 정규화\n",
        "  outputs = tf.keras.layers.Dropout(rate=dropout)(outputs)\n",
        "  add_attention = tf.keras.layers.add([outputs,attention2])\n",
        "  outputs = tf.keras.layers.LayerNormalization(epsilon=1e-6)(add_attention)\n",
        "\n",
        "  return tf.keras.Model(\n",
        "      inputs=[inputs, enc_outputs, look_ahead_mask, padding_mask],\n",
        "      outputs=outputs,\n",
        "      name=name)"
      ]
    },
    {
      "cell_type": "code",
      "execution_count": 15,
      "metadata": {
        "colab": {
          "base_uri": "https://localhost:8080/"
        },
        "id": "t8wYGyIgQ5Ol",
        "outputId": "0e5ebd75-2a25-4027-b592-cab8e92996dc"
      },
      "outputs": [
        {
          "name": "stdout",
          "output_type": "stream",
          "text": [
            "(1, 8442, 256)\n",
            "(1, 8442, 256)\n"
          ]
        }
      ],
      "source": [
        "tf.keras.backend.clear_session()\n",
        "\n",
        "# Hyper-parameters\n",
        "D_MODEL = 256\n",
        "NUM_LAYERS = 2\n",
        "NUM_HEADS = 8\n",
        "DFF = 512\n",
        "DROPOUT = 0.1\n",
        "\n",
        "model = transformer(\n",
        "    vocab_size=VOCAB_SIZE,\n",
        "    num_layers=NUM_LAYERS,\n",
        "    dff=DFF,\n",
        "    d_model=D_MODEL,\n",
        "    num_heads=NUM_HEADS,\n",
        "    dropout=DROPOUT)\n",
        "    "
      ]
    },
    {
      "cell_type": "code",
      "execution_count": 16,
      "metadata": {
        "id": "TLe0edc_Q9D0"
      },
      "outputs": [],
      "source": [
        "class CustomSchedule(tf.keras.optimizers.schedules.LearningRateSchedule):\n",
        "\n",
        "  def __init__(self, d_model, warmup_steps=4000):\n",
        "    super(CustomSchedule, self).__init__()\n",
        "    self.d_model = tf.constant(d_model,dtype=tf.float32)\n",
        "    self.warmup_steps = warmup_steps\n",
        "\n",
        "  def get_config(self):\n",
        "    return {\"d_model\": self.d_model,\"warmup_steps\":self.warmup_steps}\n",
        "\n",
        "  def __call__(self, step):\n",
        "    arg1 = tf.math.rsqrt(step)\n",
        "    arg2 = step * (self.warmup_steps**-1.5)\n",
        "\n",
        "    return tf.math.multiply(tf.math.rsqrt(self.d_model), tf.math.minimum(arg1, arg2))\n",
        "\n",
        "def loss_function(y_true, y_pred):\n",
        "  y_true = tf.reshape(y_true, shape=(-1, MAX_LENGTH - 1))\n",
        "\n",
        "  loss = tf.keras.losses.SparseCategoricalCrossentropy(\n",
        "      from_logits=True, reduction='none')(y_true, y_pred)\n",
        "\n",
        "  mask = tf.cast(tf.not_equal(y_true, 0), tf.float32)\n",
        "  loss = tf.multiply(loss, mask)\n",
        "\n",
        "  return tf.reduce_mean(loss)"
      ]
    },
    {
      "cell_type": "code",
      "execution_count": 17,
      "metadata": {
        "id": "ukdq9fH0Q-Gn"
      },
      "outputs": [],
      "source": [
        "learning_rate = CustomSchedule(D_MODEL)\n",
        "\n",
        "optimizer = tf.keras.optimizers.Adam(\n",
        "    learning_rate, beta_1=0.9, beta_2=0.98, epsilon=1e-9)\n",
        "\n",
        "def accuracy(y_true, y_pred):\n",
        "  # 레이블의 크기는 (batch_size, MAX_LENGTH - 1)\n",
        "  y_true = tf.reshape(y_true, shape=(-1, MAX_LENGTH - 1))\n",
        "  return tf.keras.metrics.sparse_categorical_accuracy(y_true, y_pred)\n",
        "\n",
        "model.compile(optimizer=optimizer, loss=loss_function, metrics=[accuracy])"
      ]
    },
    {
      "cell_type": "code",
      "execution_count": null,
      "metadata": {
        "colab": {
          "base_uri": "https://localhost:8080/"
        },
        "id": "loD8e5d0RAi5",
        "outputId": "6ab1e6e3-8878-4587-8c2c-7660a779ce6f"
      },
      "outputs": [
        {
          "name": "stdout",
          "output_type": "stream",
          "text": [
            "Epoch 1/100\n",
            "206/206 [==============================] - 39s 129ms/step - loss: 1.4113 - accuracy: 0.0261\n",
            "Epoch 2/100\n",
            "206/206 [==============================] - 26s 124ms/step - loss: 1.1172 - accuracy: 0.0490\n",
            "Epoch 3/100\n",
            "206/206 [==============================] - 26s 126ms/step - loss: 0.9551 - accuracy: 0.0511\n",
            "Epoch 4/100\n",
            "206/206 [==============================] - 26s 125ms/step - loss: 0.8776 - accuracy: 0.0556\n",
            "Epoch 5/100\n",
            "206/206 [==============================] - 26s 124ms/step - loss: 0.8075 - accuracy: 0.0607\n",
            "Epoch 6/100\n",
            "206/206 [==============================] - 26s 125ms/step - loss: 0.7341 - accuracy: 0.0672\n",
            "Epoch 7/100\n",
            "206/206 [==============================] - 26s 124ms/step - loss: 0.6592 - accuracy: 0.0744\n",
            "Epoch 8/100\n",
            "206/206 [==============================] - 26s 124ms/step - loss: 0.5804 - accuracy: 0.0826\n",
            "Epoch 9/100\n",
            "206/206 [==============================] - 26s 124ms/step - loss: 0.4990 - accuracy: 0.0915\n",
            "Epoch 10/100\n",
            "206/206 [==============================] - 26s 124ms/step - loss: 0.4196 - accuracy: 0.1007\n",
            "Epoch 11/100\n",
            "206/206 [==============================] - 26s 124ms/step - loss: 0.3424 - accuracy: 0.1106\n",
            "Epoch 12/100\n",
            "206/206 [==============================] - 26s 124ms/step - loss: 0.2712 - accuracy: 0.1207\n",
            "Epoch 13/100\n",
            "206/206 [==============================] - 26s 124ms/step - loss: 0.2097 - accuracy: 0.1299\n",
            "Epoch 14/100\n",
            "206/206 [==============================] - 26s 124ms/step - loss: 0.1571 - accuracy: 0.1388\n",
            "Epoch 15/100\n",
            "206/206 [==============================] - 26s 124ms/step - loss: 0.1174 - accuracy: 0.1461\n",
            "Epoch 16/100\n",
            "206/206 [==============================] - 26s 125ms/step - loss: 0.0889 - accuracy: 0.1515\n",
            "Epoch 17/100\n",
            "206/206 [==============================] - 26s 124ms/step - loss: 0.0718 - accuracy: 0.1545\n",
            "Epoch 18/100\n",
            "206/206 [==============================] - 26s 124ms/step - loss: 0.0615 - accuracy: 0.1565\n",
            "Epoch 19/100\n",
            "206/206 [==============================] - 26s 124ms/step - loss: 0.0563 - accuracy: 0.1575\n",
            "Epoch 20/100\n",
            "206/206 [==============================] - 26s 124ms/step - loss: 0.0535 - accuracy: 0.1579\n",
            "Epoch 21/100\n",
            "206/206 [==============================] - 26s 124ms/step - loss: 0.0465 - accuracy: 0.1597\n",
            "Epoch 22/100\n",
            "206/206 [==============================] - 26s 124ms/step - loss: 0.0407 - accuracy: 0.1611\n",
            "Epoch 23/100\n",
            "206/206 [==============================] - 26s 125ms/step - loss: 0.0367 - accuracy: 0.1621\n",
            "Epoch 24/100\n",
            "206/206 [==============================] - 26s 124ms/step - loss: 0.0330 - accuracy: 0.1628\n",
            "Epoch 25/100\n",
            "206/206 [==============================] - 26s 125ms/step - loss: 0.0301 - accuracy: 0.1635\n",
            "Epoch 26/100\n",
            "206/206 [==============================] - 25s 124ms/step - loss: 0.0270 - accuracy: 0.1643\n",
            "Epoch 27/100\n",
            "206/206 [==============================] - 26s 124ms/step - loss: 0.0253 - accuracy: 0.1646\n",
            "Epoch 28/100\n",
            "206/206 [==============================] - 26s 124ms/step - loss: 0.0241 - accuracy: 0.1649\n",
            "Epoch 29/100\n",
            "206/206 [==============================] - 26s 125ms/step - loss: 0.0222 - accuracy: 0.1655\n",
            "Epoch 30/100\n",
            "206/206 [==============================] - 26s 125ms/step - loss: 0.0209 - accuracy: 0.1656\n",
            "Epoch 31/100\n",
            "206/206 [==============================] - 26s 125ms/step - loss: 0.0198 - accuracy: 0.1659\n",
            "Epoch 32/100\n",
            "206/206 [==============================] - 26s 124ms/step - loss: 0.0188 - accuracy: 0.1661\n",
            "Epoch 33/100\n",
            "206/206 [==============================] - 26s 124ms/step - loss: 0.0177 - accuracy: 0.1664\n",
            "Epoch 34/100\n",
            "206/206 [==============================] - 25s 124ms/step - loss: 0.0173 - accuracy: 0.1666\n",
            "Epoch 35/100\n",
            "206/206 [==============================] - 26s 124ms/step - loss: 0.0166 - accuracy: 0.1666\n",
            "Epoch 36/100\n",
            "206/206 [==============================] - 26s 124ms/step - loss: 0.0154 - accuracy: 0.1670\n",
            "Epoch 37/100\n",
            "206/206 [==============================] - 26s 124ms/step - loss: 0.0152 - accuracy: 0.1670\n",
            "Epoch 38/100\n",
            "206/206 [==============================] - 26s 124ms/step - loss: 0.0147 - accuracy: 0.1670\n",
            "Epoch 39/100\n",
            "206/206 [==============================] - 26s 124ms/step - loss: 0.0138 - accuracy: 0.1673\n",
            "Epoch 40/100\n",
            "206/206 [==============================] - 25s 124ms/step - loss: 0.0140 - accuracy: 0.1673\n",
            "Epoch 41/100\n",
            "206/206 [==============================] - 25s 124ms/step - loss: 0.0135 - accuracy: 0.1674\n",
            "Epoch 42/100\n",
            "206/206 [==============================] - 26s 124ms/step - loss: 0.0132 - accuracy: 0.1674\n",
            "Epoch 43/100\n",
            "206/206 [==============================] - 25s 124ms/step - loss: 0.0129 - accuracy: 0.1675\n",
            "Epoch 44/100\n",
            "206/206 [==============================] - 26s 125ms/step - loss: 0.0123 - accuracy: 0.1677\n",
            "Epoch 45/100\n",
            "206/206 [==============================] - 26s 124ms/step - loss: 0.0122 - accuracy: 0.1676\n",
            "Epoch 46/100\n",
            "206/206 [==============================] - 25s 124ms/step - loss: 0.0117 - accuracy: 0.1678\n",
            "Epoch 47/100\n",
            "206/206 [==============================] - 26s 124ms/step - loss: 0.0117 - accuracy: 0.1677\n",
            "Epoch 48/100\n",
            "206/206 [==============================] - 25s 124ms/step - loss: 0.0116 - accuracy: 0.1678\n",
            "Epoch 49/100\n",
            "206/206 [==============================] - 25s 124ms/step - loss: 0.0112 - accuracy: 0.1679\n",
            "Epoch 50/100\n",
            "206/206 [==============================] - 26s 124ms/step - loss: 0.0109 - accuracy: 0.1679\n",
            "Epoch 51/100\n",
            "206/206 [==============================] - 26s 124ms/step - loss: 0.0107 - accuracy: 0.1679\n",
            "Epoch 52/100\n",
            "206/206 [==============================] - 25s 123ms/step - loss: 0.0107 - accuracy: 0.1679\n",
            "Epoch 53/100\n",
            "206/206 [==============================] - 25s 124ms/step - loss: 0.0104 - accuracy: 0.1680\n",
            "Epoch 54/100\n",
            "206/206 [==============================] - 26s 124ms/step - loss: 0.0102 - accuracy: 0.1680\n",
            "Epoch 55/100\n",
            "206/206 [==============================] - 26s 124ms/step - loss: 0.0101 - accuracy: 0.1680\n",
            "Epoch 56/100\n",
            "206/206 [==============================] - 26s 124ms/step - loss: 0.0100 - accuracy: 0.1681\n",
            "Epoch 57/100\n",
            "206/206 [==============================] - 25s 124ms/step - loss: 0.0101 - accuracy: 0.1680\n",
            "Epoch 58/100\n",
            "206/206 [==============================] - 26s 124ms/step - loss: 0.0098 - accuracy: 0.1681\n",
            "Epoch 59/100\n",
            "206/206 [==============================] - 25s 124ms/step - loss: 0.0098 - accuracy: 0.1681\n",
            "Epoch 60/100\n",
            "206/206 [==============================] - 25s 123ms/step - loss: 0.0097 - accuracy: 0.1681\n",
            "Epoch 61/100\n",
            "206/206 [==============================] - 25s 124ms/step - loss: 0.0094 - accuracy: 0.1681\n",
            "Epoch 62/100\n",
            "206/206 [==============================] - 26s 124ms/step - loss: 0.0093 - accuracy: 0.1682\n",
            "Epoch 63/100\n",
            "206/206 [==============================] - 26s 124ms/step - loss: 0.0092 - accuracy: 0.1682\n",
            "Epoch 64/100\n",
            "206/206 [==============================] - 26s 124ms/step - loss: 0.0093 - accuracy: 0.1682\n",
            "Epoch 65/100\n",
            "206/206 [==============================] - 26s 124ms/step - loss: 0.0091 - accuracy: 0.1682\n",
            "Epoch 66/100\n",
            "206/206 [==============================] - 26s 124ms/step - loss: 0.0090 - accuracy: 0.1682\n",
            "Epoch 67/100\n",
            "206/206 [==============================] - 26s 124ms/step - loss: 0.0087 - accuracy: 0.1682\n",
            "Epoch 68/100\n",
            "206/206 [==============================] - 26s 124ms/step - loss: 0.0089 - accuracy: 0.1682\n",
            "Epoch 69/100\n",
            "206/206 [==============================] - 26s 124ms/step - loss: 0.0085 - accuracy: 0.1683\n",
            "Epoch 70/100\n",
            "206/206 [==============================] - 26s 124ms/step - loss: 0.0086 - accuracy: 0.1683\n",
            "Epoch 71/100\n",
            "206/206 [==============================] - 26s 124ms/step - loss: 0.0088 - accuracy: 0.1683\n",
            "Epoch 72/100\n",
            "206/206 [==============================] - 26s 125ms/step - loss: 0.0086 - accuracy: 0.1683\n",
            "Epoch 73/100\n",
            "206/206 [==============================] - 26s 124ms/step - loss: 0.0085 - accuracy: 0.1683\n",
            "Epoch 74/100\n",
            "206/206 [==============================] - 26s 125ms/step - loss: 0.0084 - accuracy: 0.1683\n",
            "Epoch 75/100\n",
            "206/206 [==============================] - 26s 124ms/step - loss: 0.0084 - accuracy: 0.1683\n",
            "Epoch 76/100\n",
            "206/206 [==============================] - 26s 124ms/step - loss: 0.0084 - accuracy: 0.1683\n",
            "Epoch 77/100\n",
            "206/206 [==============================] - 26s 125ms/step - loss: 0.0082 - accuracy: 0.1683\n",
            "Epoch 78/100\n",
            "206/206 [==============================] - 26s 124ms/step - loss: 0.0082 - accuracy: 0.1683\n",
            "Epoch 79/100\n",
            "206/206 [==============================] - 26s 124ms/step - loss: 0.0083 - accuracy: 0.1683\n",
            "Epoch 80/100\n",
            "206/206 [==============================] - 26s 125ms/step - loss: 0.0081 - accuracy: 0.1683\n",
            "Epoch 81/100\n",
            "206/206 [==============================] - 26s 125ms/step - loss: 0.0081 - accuracy: 0.1683\n",
            "Epoch 82/100\n",
            "206/206 [==============================] - 26s 124ms/step - loss: 0.0080 - accuracy: 0.1684\n",
            "Epoch 83/100\n",
            "206/206 [==============================] - 26s 124ms/step - loss: 0.0079 - accuracy: 0.1684\n",
            "Epoch 84/100\n",
            "206/206 [==============================] - 26s 124ms/step - loss: 0.0081 - accuracy: 0.1684\n",
            "Epoch 85/100\n",
            "206/206 [==============================] - 26s 124ms/step - loss: 0.0079 - accuracy: 0.1683\n",
            "Epoch 86/100\n",
            "206/206 [==============================] - 26s 124ms/step - loss: 0.0077 - accuracy: 0.1684\n",
            "Epoch 87/100\n",
            "206/206 [==============================] - 26s 125ms/step - loss: 0.0077 - accuracy: 0.1685\n",
            "Epoch 88/100\n",
            "206/206 [==============================] - 26s 124ms/step - loss: 0.0078 - accuracy: 0.1683\n",
            "Epoch 89/100\n",
            "206/206 [==============================] - 26s 124ms/step - loss: 0.0077 - accuracy: 0.1684\n",
            "Epoch 90/100\n",
            "206/206 [==============================] - 26s 125ms/step - loss: 0.0077 - accuracy: 0.1684\n",
            "Epoch 91/100\n",
            "206/206 [==============================] - 26s 124ms/step - loss: 0.0075 - accuracy: 0.1685\n",
            "Epoch 92/100\n",
            "206/206 [==============================] - 26s 125ms/step - loss: 0.0076 - accuracy: 0.1685\n",
            "Epoch 93/100\n",
            "206/206 [==============================] - 26s 124ms/step - loss: 0.0077 - accuracy: 0.1685\n",
            "Epoch 94/100\n",
            "206/206 [==============================] - 26s 124ms/step - loss: 0.0075 - accuracy: 0.1684\n",
            "Epoch 95/100\n",
            "206/206 [==============================] - 26s 124ms/step - loss: 0.0075 - accuracy: 0.1684\n",
            "Epoch 96/100\n",
            "206/206 [==============================] - 26s 124ms/step - loss: 0.0074 - accuracy: 0.1685\n",
            "Epoch 97/100\n",
            "206/206 [==============================] - 26s 124ms/step - loss: 0.0075 - accuracy: 0.1684\n",
            "Epoch 98/100\n",
            "206/206 [==============================] - 26s 125ms/step - loss: 0.0075 - accuracy: 0.1684\n",
            "Epoch 99/100\n",
            "206/206 [==============================] - 26s 124ms/step - loss: 0.0075 - accuracy: 0.1684\n",
            "Epoch 100/100\n",
            "206/206 [==============================] - 26s 125ms/step - loss: 0.0074 - accuracy: 0.1684\n"
          ]
        },
        {
          "data": {
            "text/plain": [
              "<keras.callbacks.History at 0x7ffab0201d50>"
            ]
          },
          "execution_count": 18,
          "metadata": {},
          "output_type": "execute_result"
        }
      ],
      "source": [
        "EPOCHS = 100\n",
        "model.fit(dataset, epochs=EPOCHS)\n"
      ]
    },
    {
      "cell_type": "code",
      "execution_count": null,
      "metadata": {
        "colab": {
          "base_uri": "https://localhost:8080/"
        },
        "id": "gUsSTcqbT7yr",
        "outputId": "5049a424-a1f1-4631-fb75-57b3dcdb8b67"
      },
      "outputs": [
        {
          "name": "stderr",
          "output_type": "stream",
          "text": [
            "WARNING:absl:Found untraced functions such as dense_layer_call_fn, dense_layer_call_and_return_conditional_losses, dense_1_layer_call_fn, dense_1_layer_call_and_return_conditional_losses, dense_2_layer_call_fn while saving (showing 5 of 48). These functions will not be directly callable after loading.\n"
          ]
        },
        {
          "name": "stdout",
          "output_type": "stream",
          "text": [
            "INFO:tensorflow:Assets written to: /gdrive/My Drive/Colab/Chatbot/saved_model/assets\n"
          ]
        },
        {
          "name": "stderr",
          "output_type": "stream",
          "text": [
            "INFO:tensorflow:Assets written to: /gdrive/My Drive/Colab/Chatbot/saved_model/assets\n"
          ]
        }
      ],
      "source": [
        "model.save(\"/gdrive/My Drive/Colab/Chatbot/saved_model\", include_optimizer=False)"
      ]
    },
    {
      "cell_type": "code",
      "execution_count": 9,
      "metadata": {
        "id": "722tdBvBYOYr"
      },
      "outputs": [],
      "source": [
        "def evaluate(sentence):\n",
        "  sentence = preprocess_sentence(sentence)\n",
        "\n",
        "  sentence = tf.expand_dims(\n",
        "      START_TOKEN + tokenizer.encode(sentence) + END_TOKEN, axis=0)\n",
        "\n",
        "  output = tf.expand_dims(START_TOKEN, 0)\n",
        "\n",
        "  # 디코더의 예측 시작\n",
        "  for i in range(MAX_LENGTH):\n",
        "    predictions = model(inputs=[sentence, output], training=False)\n",
        "\n",
        "    # 현재(마지막) 시점의 예측 단어를 받아온다.\n",
        "    predictions = predictions[:, -1:, :]\n",
        "    predicted_id = tf.cast(tf.argmax(predictions, axis=-1), tf.int32)\n",
        "\n",
        "    # 만약 마지막 시점의 예측 단어가 종료 토큰이라면 예측을 중단\n",
        "    if tf.equal(predicted_id, END_TOKEN[0]):\n",
        "      break\n",
        "\n",
        "    # 마지막 시점의 예측 단어를 출력에 연결한다.\n",
        "    # 이는 for문을 통해서 디코더의 입력으로 사용될 예정이다.\n",
        "    output = tf.concat([output, predicted_id], axis=-1)\n",
        "\n",
        "  return tf.squeeze(output, axis=0)"
      ]
    },
    {
      "cell_type": "code",
      "execution_count": 10,
      "metadata": {
        "id": "9R3SlvGwYPHk"
      },
      "outputs": [],
      "source": [
        "def predict(sentence):\n",
        "  prediction = evaluate(sentence)\n",
        "\n",
        "  predicted_sentence = tokenizer.decode(\n",
        "      [i for i in prediction if i < tokenizer.vocab_size])\n",
        "\n",
        "  print('Input: {}'.format(sentence))\n",
        "  print('Output: {}'.format(predicted_sentence))\n",
        "\n",
        "  return predicted_sentence"
      ]
    },
    {
      "cell_type": "code",
      "execution_count": 14,
      "metadata": {
        "colab": {
          "base_uri": "https://localhost:8080/"
        },
        "id": "lIDSKfwkb1h9",
        "outputId": "ab62ef6a-3ddf-4d05-ac4e-202692bd8884"
      },
      "outputs": [
        {
          "name": "stdout",
          "output_type": "stream",
          "text": [
            "WARNING:tensorflow:No training configuration found in save file, so the model was *not* compiled. Compile it manually.\n"
          ]
        },
        {
          "name": "stderr",
          "output_type": "stream",
          "text": [
            "WARNING:tensorflow:No training configuration found in save file, so the model was *not* compiled. Compile it manually.\n"
          ]
        }
      ],
      "source": [
        "model = keras.models.load_model(\"saved_model\", custom_objects={'create_padding_mask': create_padding_mask})"
      ]
    },
    {
      "cell_type": "code",
      "execution_count": 16,
      "metadata": {
        "colab": {
          "base_uri": "https://localhost:8080/"
        },
        "id": "yFxQcHaz4QFs",
        "outputId": "5397774a-1622-4c55-e477-ad7878991ed5"
      },
      "outputs": [
        {
          "name": "stdout",
          "output_type": "stream",
          "text": [
            "Input: 오늘따라 피곤하네\n",
            "Output: 잠시 쉬었다가 하시는 것도 일의 효율을 높일 수 있어요 .\n",
            "잠시 쉬었다가 하시는 것도 일의 효율을 높일 수 있어요 .\n"
          ]
        }
      ],
      "source": [
        "output = predict(\"오늘따라 피곤하네\")\n",
        "\n",
        "print(output)"
      ]
    },
    {
      "cell_type": "code",
      "execution_count": 2,
      "metadata": {},
      "outputs": [
        {
          "ename": "NameError",
          "evalue": "name 'predict' is not defined",
          "output_type": "error",
          "traceback": [
            "\u001b[1;31m---------------------------------------------------------------------------\u001b[0m",
            "\u001b[1;31mNameError\u001b[0m                                 Traceback (most recent call last)",
            "\u001b[1;32mc:\\Users\\10133\\Desktop\\건국\\sw프로젝트입문\\chatbot\\Copy_of_Copy_of_chatbot.ipynb Cell 24'\u001b[0m in \u001b[0;36m<cell line: 27>\u001b[1;34m()\u001b[0m\n\u001b[0;32m     <a href='vscode-notebook-cell:/c%3A/Users/10133/Desktop/%EA%B1%B4%EA%B5%AD/sw%ED%94%84%EB%A1%9C%EC%A0%9D%ED%8A%B8%EC%9E%85%EB%AC%B8/chatbot/Copy_of_Copy_of_chatbot.ipynb#ch0000023?line=23'>24</a>\u001b[0m     tts\u001b[39m.\u001b[39msave(filename)\n\u001b[0;32m     <a href='vscode-notebook-cell:/c%3A/Users/10133/Desktop/%EA%B1%B4%EA%B5%AD/sw%ED%94%84%EB%A1%9C%EC%A0%9D%ED%8A%B8%EC%9E%85%EB%AC%B8/chatbot/Copy_of_Copy_of_chatbot.ipynb#ch0000023?line=24'>25</a>\u001b[0m     playsound(filename)\n\u001b[1;32m---> <a href='vscode-notebook-cell:/c%3A/Users/10133/Desktop/%EA%B1%B4%EA%B5%AD/sw%ED%94%84%EB%A1%9C%EC%A0%9D%ED%8A%B8%EC%9E%85%EB%AC%B8/chatbot/Copy_of_Copy_of_chatbot.ipynb#ch0000023?line=26'>27</a>\u001b[0m output \u001b[39m=\u001b[39m predict(stt())\n\u001b[0;32m     <a href='vscode-notebook-cell:/c%3A/Users/10133/Desktop/%EA%B1%B4%EA%B5%AD/sw%ED%94%84%EB%A1%9C%EC%A0%9D%ED%8A%B8%EC%9E%85%EB%AC%B8/chatbot/Copy_of_Copy_of_chatbot.ipynb#ch0000023?line=28'>29</a>\u001b[0m tts(output)\n",
            "\u001b[1;31mNameError\u001b[0m: name 'predict' is not defined"
          ]
        }
      ],
      "source": [
        "import speech_recognition as sr\n",
        "from gtts import gTTS \n",
        "import os \n",
        "import time \n",
        "from playsound import playsound\n",
        "\n",
        "def stt():\n",
        "    r = sr.Recognizer()\n",
        "    mic = sr.Microphone()\n",
        "\n",
        "    with mic as source:\n",
        "        r.adjust_for_ambient_noise(source)\n",
        "        print(\"Record start\")\n",
        "        audio = r.listen(source,phrase_time_limit=10)\n",
        "\n",
        "    #    text = r.recognize_houndify(audio_data = audio, client_id = \"fgGCYTsipn34hDTLCx2I5w==\", client_key = \"zMQ4hwV83-pCYDgdfdpF9H2todhXyTNSgW1uQuEXO25qrUwODy7cOvucl6USZkCgRmhaWeXbKz1QXC5pLpinYg==\")\n",
        "        text = r.recognize_google(audio_data = audio, language= \"ko-kr\")\n",
        "        print(text)\n",
        "        return text\n",
        "\n",
        "def tts(text):\n",
        "    tts = gTTS(text=text, lang='ko')\n",
        "    filename='voice2.mp3'\n",
        "    tts.save(filename)\n",
        "    playsound(filename)\n",
        "\n",
        "output = predict(stt())\n",
        "\n",
        "tts(output)\n"
      ]
    }
  ],
  "metadata": {
    "accelerator": "GPU",
    "colab": {
      "collapsed_sections": [],
      "name": "Copy of Copy of chatbot.ipynb",
      "provenance": []
    },
    "interpreter": {
      "hash": "f39a69cd0ab36a081f2e1e65543dd2848f646a5f8f591a119ce22c5ffdf6b54a"
    },
    "kernelspec": {
      "display_name": "Python 3.10.4 64-bit",
      "language": "python",
      "name": "python3"
    },
    "language_info": {
      "codemirror_mode": {
        "name": "ipython",
        "version": 3
      },
      "file_extension": ".py",
      "mimetype": "text/x-python",
      "name": "python",
      "nbconvert_exporter": "python",
      "pygments_lexer": "ipython3",
      "version": "3.10.4"
    }
  },
  "nbformat": 4,
  "nbformat_minor": 0
}
